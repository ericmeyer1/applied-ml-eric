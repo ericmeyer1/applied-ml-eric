{
 "cells": [
  {
   "cell_type": "markdown",
   "metadata": {},
   "source": [
    "# Lab 4: Predicting a Continuous Target with Regression (Titanic)\n",
    "**Author:** Eric Meyer\n",
    "\n",
    "**Date:** 04/02/2025  \n",
    "\n",
    "**Objective:** Predicting fare prices based on Titanic dataset features"
   ]
  },
  {
   "cell_type": "markdown",
   "metadata": {},
   "source": [
    "## Section 1: Import and Inspect the Data"
   ]
  },
  {
   "cell_type": "code",
   "execution_count": 1,
   "metadata": {},
   "outputs": [],
   "source": [
    "# Importing the necessary libraries\n",
    "import seaborn as sns\n",
    "import pandas as pd\n",
    "import numpy as np\n",
    "import matplotlib.pyplot as plt\n",
    "\n",
    "from sklearn.model_selection import train_test_split\n",
    "from sklearn.linear_model import LinearRegression, Ridge, ElasticNet\n",
    "from sklearn.preprocessing import PolynomialFeatures\n",
    "from sklearn.metrics import mean_squared_error, mean_absolute_error, r2_score\n"
   ]
  },
  {
   "cell_type": "code",
   "execution_count": 2,
   "id": "90b16f60",
   "metadata": {},
   "outputs": [
    {
     "data": {
      "text/html": [
       "<div>\n",
       "<style scoped>\n",
       "    .dataframe tbody tr th:only-of-type {\n",
       "        vertical-align: middle;\n",
       "    }\n",
       "\n",
       "    .dataframe tbody tr th {\n",
       "        vertical-align: top;\n",
       "    }\n",
       "\n",
       "    .dataframe thead th {\n",
       "        text-align: right;\n",
       "    }\n",
       "</style>\n",
       "<table border=\"1\" class=\"dataframe\">\n",
       "  <thead>\n",
       "    <tr style=\"text-align: right;\">\n",
       "      <th></th>\n",
       "      <th>survived</th>\n",
       "      <th>pclass</th>\n",
       "      <th>sex</th>\n",
       "      <th>age</th>\n",
       "      <th>sibsp</th>\n",
       "      <th>parch</th>\n",
       "      <th>fare</th>\n",
       "      <th>embarked</th>\n",
       "      <th>class</th>\n",
       "      <th>who</th>\n",
       "      <th>adult_male</th>\n",
       "      <th>deck</th>\n",
       "      <th>embark_town</th>\n",
       "      <th>alive</th>\n",
       "      <th>alone</th>\n",
       "    </tr>\n",
       "  </thead>\n",
       "  <tbody>\n",
       "    <tr>\n",
       "      <th>0</th>\n",
       "      <td>0</td>\n",
       "      <td>3</td>\n",
       "      <td>male</td>\n",
       "      <td>22.0</td>\n",
       "      <td>1</td>\n",
       "      <td>0</td>\n",
       "      <td>7.2500</td>\n",
       "      <td>S</td>\n",
       "      <td>Third</td>\n",
       "      <td>man</td>\n",
       "      <td>True</td>\n",
       "      <td>NaN</td>\n",
       "      <td>Southampton</td>\n",
       "      <td>no</td>\n",
       "      <td>False</td>\n",
       "    </tr>\n",
       "    <tr>\n",
       "      <th>1</th>\n",
       "      <td>1</td>\n",
       "      <td>1</td>\n",
       "      <td>female</td>\n",
       "      <td>38.0</td>\n",
       "      <td>1</td>\n",
       "      <td>0</td>\n",
       "      <td>71.2833</td>\n",
       "      <td>C</td>\n",
       "      <td>First</td>\n",
       "      <td>woman</td>\n",
       "      <td>False</td>\n",
       "      <td>C</td>\n",
       "      <td>Cherbourg</td>\n",
       "      <td>yes</td>\n",
       "      <td>False</td>\n",
       "    </tr>\n",
       "    <tr>\n",
       "      <th>2</th>\n",
       "      <td>1</td>\n",
       "      <td>3</td>\n",
       "      <td>female</td>\n",
       "      <td>26.0</td>\n",
       "      <td>0</td>\n",
       "      <td>0</td>\n",
       "      <td>7.9250</td>\n",
       "      <td>S</td>\n",
       "      <td>Third</td>\n",
       "      <td>woman</td>\n",
       "      <td>False</td>\n",
       "      <td>NaN</td>\n",
       "      <td>Southampton</td>\n",
       "      <td>yes</td>\n",
       "      <td>True</td>\n",
       "    </tr>\n",
       "    <tr>\n",
       "      <th>3</th>\n",
       "      <td>1</td>\n",
       "      <td>1</td>\n",
       "      <td>female</td>\n",
       "      <td>35.0</td>\n",
       "      <td>1</td>\n",
       "      <td>0</td>\n",
       "      <td>53.1000</td>\n",
       "      <td>S</td>\n",
       "      <td>First</td>\n",
       "      <td>woman</td>\n",
       "      <td>False</td>\n",
       "      <td>C</td>\n",
       "      <td>Southampton</td>\n",
       "      <td>yes</td>\n",
       "      <td>False</td>\n",
       "    </tr>\n",
       "    <tr>\n",
       "      <th>4</th>\n",
       "      <td>0</td>\n",
       "      <td>3</td>\n",
       "      <td>male</td>\n",
       "      <td>35.0</td>\n",
       "      <td>0</td>\n",
       "      <td>0</td>\n",
       "      <td>8.0500</td>\n",
       "      <td>S</td>\n",
       "      <td>Third</td>\n",
       "      <td>man</td>\n",
       "      <td>True</td>\n",
       "      <td>NaN</td>\n",
       "      <td>Southampton</td>\n",
       "      <td>no</td>\n",
       "      <td>True</td>\n",
       "    </tr>\n",
       "  </tbody>\n",
       "</table>\n",
       "</div>"
      ],
      "text/plain": [
       "   survived  pclass     sex   age  sibsp  parch     fare embarked  class  \\\n",
       "0         0       3    male  22.0      1      0   7.2500        S  Third   \n",
       "1         1       1  female  38.0      1      0  71.2833        C  First   \n",
       "2         1       3  female  26.0      0      0   7.9250        S  Third   \n",
       "3         1       1  female  35.0      1      0  53.1000        S  First   \n",
       "4         0       3    male  35.0      0      0   8.0500        S  Third   \n",
       "\n",
       "     who  adult_male deck  embark_town alive  alone  \n",
       "0    man        True  NaN  Southampton    no  False  \n",
       "1  woman       False    C    Cherbourg   yes  False  \n",
       "2  woman       False  NaN  Southampton   yes   True  \n",
       "3  woman       False    C  Southampton   yes  False  \n",
       "4    man        True  NaN  Southampton    no   True  "
      ]
     },
     "execution_count": 2,
     "metadata": {},
     "output_type": "execute_result"
    }
   ],
   "source": [
    "# Load Titanic dataset directly from seaborn library\n",
    "titanic = sns.load_dataset(\"titanic\")\n",
    "titanic.head()"
   ]
  },
  {
   "cell_type": "markdown",
   "id": "08ea10c9",
   "metadata": {},
   "source": [
    "## Section 2: Data Exploration and Preparation"
   ]
  },
  {
   "cell_type": "markdown",
   "metadata": {},
   "source": [
    "### 2.1 Handle Missing Values and Clean Data"
   ]
  },
  {
   "cell_type": "code",
   "execution_count": 3,
   "id": "6247361a",
   "metadata": {},
   "outputs": [
    {
     "name": "stderr",
     "output_type": "stream",
     "text": [
      "C:\\Users\\Lexi\\AppData\\Local\\Temp\\ipykernel_18032\\3129207172.py:2: FutureWarning: A value is trying to be set on a copy of a DataFrame or Series through chained assignment using an inplace method.\n",
      "The behavior will change in pandas 3.0. This inplace method will never work because the intermediate object on which we are setting values always behaves as a copy.\n",
      "\n",
      "For example, when doing 'df[col].method(value, inplace=True)', try using 'df.method({col: value}, inplace=True)' or df[col] = df[col].method(value) instead, to perform the operation inplace on the original object.\n",
      "\n",
      "\n",
      "  titanic['age'].fillna(titanic['age'].median(), inplace=True)\n"
     ]
    }
   ],
   "source": [
    "# Impute missing values for age using median\n",
    "titanic['age'].fillna(titanic['age'].median(), inplace=True)\n",
    "\n",
    "# Drop rows with missing fare\n",
    "titanic = titanic.dropna(subset=['fare'])\n",
    "\n",
    "# Create family_size feature\n",
    "titanic['family_size'] = titanic['sibsp'] + titanic['parch'] + 1"
   ]
  },
  {
   "cell_type": "markdown",
   "metadata": {},
   "source": [
    "## Section 3: Feature Selection and Justification"
   ]
  },
  {
   "cell_type": "code",
   "execution_count": 5,
   "metadata": {},
   "outputs": [],
   "source": [
    "# Define feature sets\n",
    "# Case 1 - age\n",
    "X1 = titanic[['age']]\n",
    "y1 = titanic['fare']\n",
    "\n",
    "# Case 2 - family size\n",
    "X2 = titanic[['family_size']]\n",
    "y2 = titanic['fare']\n",
    "\n",
    "# Case 3 - age and family size\n",
    "X3 = titanic[['age', 'family_size']]\n",
    "y3 = titanic['fare']\n",
    "\n",
    "# Custom Case 4 - class and age\n",
    "titanic['pclass'] = titanic['pclass'].astype(float)\n",
    "X4 = titanic[['age', 'pclass']]\n",
    "y4 = titanic['fare']"
   ]
  },
  {
   "cell_type": "markdown",
   "id": "9c001a63",
   "metadata": {},
   "source": [
    "### Reflection 3:\n",
    "\n",
    "- **Why might these features affect a passenger’s fare:**\n",
    "  - Pclass (Passenger Class): Higher-class tickets (1st class) were significantly more expensive than lower-class tickets (3rd class).\n",
    "  - Age: Younger children, especially infants, sometimes had lower fares or shared accommodations.\n",
    "  - SibSp & Parch (Family Size): Traveling with family might result in group pricing or shared accommodations, influencing fare.\n",
    "\n",
    "- **List all available features:**\n",
    "  - Pclass, Sex, Age, SibSp, Parch, Emarked, Who, Deck, Embark_town, or Alone\n",
    "  \n",
    "- **Which other features could improve predictions and why:**\n",
    "  - Cabin (location of stay) could help a lot because rooms located a different decks could have different price levels.\n",
    "  - Sibsp could help has if somone his with family that may indicate how that affects prices vs being alone.\n",
    "\n",
    "- **How many variables are in your Case 4:**\n",
    "  - Two being pclass and age\n",
    "\n",
    "- **Which variable(s) did you choose for Case 4 and why do you feel those could make good inputs:**\n",
    "  - Plcass I feel could be a strong indicator of prices since class generally direclty relates with pricing of your tickets\n",
    "  - Sibsp I feel can help as larger groups may get discounts for booking more tickets"
   ]
  },
  {
   "cell_type": "markdown",
   "metadata": {},
   "source": [
    "## Section 4: Train a Regression Model (Linear Regression)"
   ]
  },
  {
   "cell_type": "markdown",
   "id": "3b47b236",
   "metadata": {},
   "source": [
    "### 4.1 Split the Data"
   ]
  },
  {
   "cell_type": "code",
   "execution_count": 6,
   "metadata": {},
   "outputs": [],
   "source": [
    "# Split data for all four cases\n",
    "X1_train, X1_test, y1_train, y1_test = train_test_split(X1, y1, test_size=0.2, random_state=123)\n",
    "X2_train, X2_test, y2_train, y2_test = train_test_split(X2, y2, test_size=0.2, random_state=123)\n",
    "X3_train, X3_test, y3_train, y3_test = train_test_split(X3, y3, test_size=0.2, random_state=123)\n",
    "X4_train, X4_test, y4_train, y4_test = train_test_split(X4, y4, test_size=0.2, random_state=123)"
   ]
  },
  {
   "cell_type": "markdown",
   "id": "b3c4a38b",
   "metadata": {},
   "source": [
    "### 4.2 Create, Train, and Predict Model"
   ]
  },
  {
   "cell_type": "code",
   "execution_count": 7,
   "id": "c36e5d73",
   "metadata": {},
   "outputs": [
    {
     "name": "stdout",
     "output_type": "stream",
     "text": [
      "Case 1 (age):\n",
      "Training R²: 0.009950688019452314\n",
      "Test R²: 0.0034163395508415295\n",
      "\n",
      "Case 2 (family_size):\n",
      "Training R²: 0.049915792364760736\n",
      "Test R²: 0.022231186110131973\n",
      "\n",
      "Case 3 (age, family_size):\n",
      "Training R²: 0.07347466201590014\n",
      "Test R²: 0.049784832763073106\n",
      "\n",
      "Case 4 (pclass, age):\n",
      "Training R²: 0.30893458196174794\n",
      "Test R²: 0.31661691734309905\n"
     ]
    }
   ],
   "source": [
    "# Train linear regression models for all 4 cases\n",
    "lr_model1 = LinearRegression().fit(X1_train, y1_train)\n",
    "lr_model2 = LinearRegression().fit(X2_train, y2_train)\n",
    "lr_model3 = LinearRegression().fit(X3_train, y3_train)\n",
    "lr_model4 = LinearRegression().fit(X4_train, y4_train)\n",
    "\n",
    "# Predictions for each case\n",
    "y_pred_train1 = lr_model1.predict(X1_train)\n",
    "y_pred_test1 = lr_model1.predict(X1_test)\n",
    "\n",
    "y_pred_train2 = lr_model2.predict(X2_train)\n",
    "y_pred_test2 = lr_model2.predict(X2_test)\n",
    "\n",
    "y_pred_train3 = lr_model3.predict(X3_train)\n",
    "y_pred_test3 = lr_model3.predict(X3_test)\n",
    "\n",
    "y_pred_train4 = lr_model4.predict(X4_train)\n",
    "y_pred_test4 = lr_model4.predict(X4_test)\n",
    "\n",
    "print(\"Case 1 (age):\")\n",
    "print(f\"Training R²: {r2_score(y1_train, y_pred_train1)}\")\n",
    "print(f\"Test R²: {r2_score(y1_test, y_pred_test1)}\")\n",
    "\n",
    "print(\"\\nCase 2 (family_size):\")\n",
    "print(f\"Training R²: {r2_score(y2_train, y_pred_train2)}\")\n",
    "print(f\"Test R²: {r2_score(y2_test, y_pred_test2)}\")\n",
    "\n",
    "print(\"\\nCase 3 (age, family_size):\")\n",
    "print(f\"Training R²: {r2_score(y3_train, y_pred_train3)}\")\n",
    "print(f\"Test R²: {r2_score(y3_test, y_pred_test3)}\")\n",
    "\n",
    "print(\"\\nCase 4 (pclass, age):\")\n",
    "print(f\"Training R²: {r2_score(y4_train, y_pred_train4)}\")\n",
    "print(f\"Test R²: {r2_score(y4_test, y_pred_test4)}\")"
   ]
  },
  {
   "cell_type": "markdown",
   "id": "4ad19958",
   "metadata": {},
   "source": [
    "### 4.3 Report Peformance"
   ]
  },
  {
   "cell_type": "code",
   "execution_count": 11,
   "id": "014c64c9",
   "metadata": {},
   "outputs": [
    {
     "name": "stdout",
     "output_type": "stream",
     "text": [
      "--- Case 1: Age Only ---\n",
      "Training R²: 0.009950688019452314\n",
      "Test R²: 0.0034163395508415295\n",
      "Test RMSE: 37.97164180172938\n",
      "Test MAE: 25.28637293162364\n",
      "------------------------------\n",
      "--- Case 2: Family Size Only ---\n",
      "Training R²: 0.049915792364760736\n",
      "Test R²: 0.022231186110131973\n",
      "Test RMSE: 37.6114940041967\n",
      "Test MAE: 25.02534815941641\n",
      "------------------------------\n",
      "--- Case 3: Age + Family Size ---\n",
      "Training R²: 0.07347466201590014\n",
      "Test R²: 0.049784832763073106\n",
      "Test RMSE: 37.0777586646559\n",
      "Test MAE: 24.284935030470688\n",
      "------------------------------\n",
      "--- Case 4: Age + Pclass ---\n",
      "Training R²: 0.30893458196174794\n",
      "Test R²: 0.31661691734309905\n",
      "Test RMSE: 31.443769640988446\n",
      "Test MAE: 20.703744560366587\n",
      "------------------------------\n"
     ]
    }
   ],
   "source": [
    "# Function to evaluate performance\n",
    "def evaluate_performance(X, y, case_name):\n",
    "    X_train, X_test, y_train, y_test = train_test_split(X, y, test_size=0.2, random_state=123)\n",
    "\n",
    "    # Train Linear Regression Model\n",
    "    lr_model = LinearRegression().fit(X_train, y_train)\n",
    "\n",
    "    # Predictions\n",
    "    y_pred_train = lr_model.predict(X_train)\n",
    "    y_pred_test = lr_model.predict(X_test)\n",
    "\n",
    "    # Evaluate Performance\n",
    "    print(f\"--- {case_name} ---\")\n",
    "    print(\"Training R²:\", r2_score(y_train, y_pred_train))\n",
    "    print(\"Test R²:\", r2_score(y_test, y_pred_test))\n",
    "    print(\"Test RMSE:\", mean_squared_error(y_test, y_pred_test) ** 0.5)\n",
    "    print(\"Test MAE:\", mean_absolute_error(y_test, y_pred_test))\n",
    "    print(\"-\" * 30)\n",
    "\n",
    "# Run evaluations for all cases\n",
    "evaluate_performance(X1, y1, \"Case 1: Age Only\")\n",
    "evaluate_performance(X2, y2, \"Case 2: Family Size Only\")\n",
    "evaluate_performance(X3, y3, \"Case 3: Age + Family Size\")\n",
    "evaluate_performance(X4, y4, \"Case 4: Age + Pclass\")"
   ]
  },
  {
   "cell_type": "markdown",
   "id": "ed04c1ac",
   "metadata": {},
   "source": [
    "### Reflection 4:\n",
    "\n",
    "- **Did Case 1 overfit or underfit? Explain:**\n",
    "  - Underfit -- Very low R² on both train and test sets means the model does not capture meaningful variance in fare.\n",
    "\n",
    "- **Did Case 2 overfit or underfit? Explain:**\n",
    "  - Undefit -- Low R² suggests it’s not a strong predictor. The close train/test scores indicate a weak but consistent model.\n",
    "\n",
    "- **Did Case 3 overfit or underfit? Explain:**\n",
    "  - Slight Underfit -- The test R² (0.0498) is lower than train R² (0.0735), meaning the model might be slightly underfitting but still doesn’t explain much variance.\n",
    "\n",
    "- **Did Case 4 overfit or underfit? Explain:**\n",
    "  - Well Balanced -- Train R² (0.3089) and test R² (0.3166) are close, meaning the model generalizes well to unseen data. No clear signs of overfitting.\n",
    "\n",
    "- **Adding Age**\n",
    "  - **Did adding age improve the model:**\n",
    "    - Yes but not a lot\n",
    "  - **Propose a possible explanation:**\n",
    "    - Age alone doesn’t have a strong correlation with fare because ticket price is likely influenced by class, destination, and purchasing power rather than just age.\n",
    "    - Older passengers may have had more resources to buy expensive tickets, but this pattern isn’t strong enough alone.\n",
    "\n",
    "- **Worst**\n",
    "  - **Which case performed worst?**\n",
    "    - Age only\n",
    "    - R² is nearly zero, meaning it barely explains fare variability.\n",
    "    - The lowest R² values for both train (0.0099) and test (0.0034).\n",
    "    - Since the relationship between age and fare is weak, adding more data would not likely improve the predictive power.\n",
    "\n",
    "- **Best**\n",
    "  - **Which case was best?**\n",
    "    - Age + Pclass\n",
    "    - Highest R² (train: 0.3089, test: 0.3166), meaning it captures more variance in fare.\n",
    "    - The highest test R² (0.3166) and the lowest RMSE (31.44) indicate better predictive performance.\n",
    "    - Since the model is already generalizing well, adding more data might marginally improve accuracy but not drastically. A better approach would be adding more relevant features (e.g., embarkation point, ticket type)."
   ]
  },
  {
   "cell_type": "markdown",
   "id": "3d62d9dc",
   "metadata": {},
   "source": [
    "## Section 5: Compare Alternative Models (SVC, NN)"
   ]
  },
  {
   "cell_type": "code",
   "execution_count": 18,
   "id": "5dfada18",
   "metadata": {},
   "outputs": [],
   "source": [
    "# RBF Kernel (default) - same as calling SVC()\n",
    "# svc_model = SVC(kernel='rbf')\n",
    "# svc_model.fit(X_train, y_train)\n",
    "\n",
    "# Linear Kernel\n",
    "# svc_model = SVC(kernel='linear')\n",
    "# svc_model.fit(X_train, y_train)\n",
    "\n",
    "# Polynomial Kernel (e.g., with degree=3)\n",
    "# svc_model = SVC(kernel='poly', degree=3)\n",
    "# svc_model.fit(X_train, y_train)\n",
    "\n",
    "# Sigmoid Kernel\n",
    "# svc_model = SVC(kernel='sigmoid')\n",
    "# svc_model.fit(X_train, y_train)"
   ]
  },
  {
   "cell_type": "markdown",
   "id": "c357b408",
   "metadata": {},
   "source": [
    "### 5.1 Train and Evaluate Model (SVC RBF)"
   ]
  },
  {
   "cell_type": "markdown",
   "id": "709b25e0",
   "metadata": {},
   "source": [
    "#### Case 1 Results -- Alone Only"
   ]
  },
  {
   "cell_type": "code",
   "execution_count": 32,
   "id": "0afc3a4a",
   "metadata": {},
   "outputs": [
    {
     "name": "stdout",
     "output_type": "stream",
     "text": [
      "Results for SVC on test data:\n",
      "              precision    recall  f1-score   support\n",
      "\n",
      "           0       0.71      0.65      0.68       110\n",
      "           1       0.51      0.58      0.54        69\n",
      "\n",
      "    accuracy                           0.63       179\n",
      "   macro avg       0.61      0.62      0.61       179\n",
      "weighted avg       0.64      0.63      0.63       179\n",
      "\n"
     ]
    }
   ],
   "source": [
    "# Create and train a Support Vector Classifier (SVC) model\n",
    "svc_model = SVC(kernel='rbf')\n",
    "svc_model.fit(X_train, y_train)\n",
    "\n",
    "# Evaluate SVC model\n",
    "y_pred_svc = svc_model.predict(X_test)\n",
    "print(\"Results for SVC on test data:\")\n",
    "print(classification_report(y_test, y_pred_svc))"
   ]
  },
  {
   "cell_type": "markdown",
   "id": "8d47e925",
   "metadata": {},
   "source": [
    "#### Case 2 Results -- Age Only"
   ]
  },
  {
   "cell_type": "code",
   "execution_count": 36,
   "id": "a2c6f133",
   "metadata": {},
   "outputs": [
    {
     "name": "stdout",
     "output_type": "stream",
     "text": [
      "Results for SVC on test data:\n",
      "              precision    recall  f1-score   support\n",
      "\n",
      "           0       0.63      0.98      0.77       110\n",
      "           1       0.71      0.07      0.13        69\n",
      "\n",
      "    accuracy                           0.63       179\n",
      "   macro avg       0.67      0.53      0.45       179\n",
      "weighted avg       0.66      0.63      0.52       179\n",
      "\n"
     ]
    }
   ],
   "source": [
    "# Create and train a Support Vector Classifier (SVC) model\n",
    "svc_model = SVC(kernel='rbf')\n",
    "svc_model.fit(X_train, y_train)\n",
    "\n",
    "# Evaluate SVC model\n",
    "y_pred_svc = svc_model.predict(X_test)\n",
    "print(\"Results for SVC on test data:\")\n",
    "print(classification_report(y_test, y_pred_svc))"
   ]
  },
  {
   "cell_type": "markdown",
   "id": "aeec7a42",
   "metadata": {},
   "source": [
    "#### Case 3 Results -- Age + Family Size"
   ]
  },
  {
   "cell_type": "code",
   "execution_count": 19,
   "metadata": {},
   "outputs": [
    {
     "name": "stdout",
     "output_type": "stream",
     "text": [
      "Results for SVC on test data:\n",
      "              precision    recall  f1-score   support\n",
      "\n",
      "           0       0.63      0.98      0.77       110\n",
      "           1       0.71      0.07      0.13        69\n",
      "\n",
      "    accuracy                           0.63       179\n",
      "   macro avg       0.67      0.53      0.45       179\n",
      "weighted avg       0.66      0.63      0.52       179\n",
      "\n"
     ]
    }
   ],
   "source": [
    "# Create and train a Support Vector Classifier (SVC) model\n",
    "svc_model = SVC(kernel='rbf')\n",
    "svc_model.fit(X_train, y_train)\n",
    "\n",
    "# Evaluate SVC model\n",
    "y_pred_svc = svc_model.predict(X_test)\n",
    "print(\"Results for SVC on test data:\")\n",
    "print(classification_report(y_test, y_pred_svc))"
   ]
  },
  {
   "cell_type": "markdown",
   "id": "0a07b003",
   "metadata": {},
   "source": [
    "### 5.1 Train and Evaluate Model (SVC Linear)"
   ]
  },
  {
   "cell_type": "markdown",
   "id": "48145b2e",
   "metadata": {},
   "source": [
    "#### Case 1 Results -- Alone Only"
   ]
  },
  {
   "cell_type": "code",
   "execution_count": 47,
   "id": "2339757a",
   "metadata": {},
   "outputs": [
    {
     "name": "stdout",
     "output_type": "stream",
     "text": [
      "Results for SVC on test data:\n",
      "              precision    recall  f1-score   support\n",
      "\n",
      "           0       0.71      0.65      0.68       110\n",
      "           1       0.51      0.58      0.54        69\n",
      "\n",
      "    accuracy                           0.63       179\n",
      "   macro avg       0.61      0.62      0.61       179\n",
      "weighted avg       0.64      0.63      0.63       179\n",
      "\n"
     ]
    }
   ],
   "source": [
    "# Linear Kernel\n",
    "svc_model = SVC(kernel='linear')\n",
    "svc_model.fit(X_train, y_train)\n",
    "\n",
    "# Evaluate the model\n",
    "y_pred_svc = svc_model.predict(X_test)\n",
    "print(\"Results for SVC on test data:\")\n",
    "print(classification_report(y_test, y_pred_svc))"
   ]
  },
  {
   "cell_type": "markdown",
   "id": "bb48b7d9",
   "metadata": {},
   "source": [
    "#### Case 2 Results -- Age Only"
   ]
  },
  {
   "cell_type": "code",
   "execution_count": 37,
   "id": "466f1b5a",
   "metadata": {},
   "outputs": [
    {
     "name": "stdout",
     "output_type": "stream",
     "text": [
      "Results for SVC on test data:\n",
      "              precision    recall  f1-score   support\n",
      "\n",
      "           0       0.61      1.00      0.76       110\n",
      "           1       0.00      0.00      0.00        69\n",
      "\n",
      "    accuracy                           0.61       179\n",
      "   macro avg       0.31      0.50      0.38       179\n",
      "weighted avg       0.38      0.61      0.47       179\n",
      "\n"
     ]
    },
    {
     "name": "stderr",
     "output_type": "stream",
     "text": [
      "c:\\Projects\\applied-ml-eric\\.emvenv\\Lib\\site-packages\\sklearn\\metrics\\_classification.py:1565: UndefinedMetricWarning: Precision is ill-defined and being set to 0.0 in labels with no predicted samples. Use `zero_division` parameter to control this behavior.\n",
      "  _warn_prf(average, modifier, f\"{metric.capitalize()} is\", len(result))\n",
      "c:\\Projects\\applied-ml-eric\\.emvenv\\Lib\\site-packages\\sklearn\\metrics\\_classification.py:1565: UndefinedMetricWarning: Precision is ill-defined and being set to 0.0 in labels with no predicted samples. Use `zero_division` parameter to control this behavior.\n",
      "  _warn_prf(average, modifier, f\"{metric.capitalize()} is\", len(result))\n",
      "c:\\Projects\\applied-ml-eric\\.emvenv\\Lib\\site-packages\\sklearn\\metrics\\_classification.py:1565: UndefinedMetricWarning: Precision is ill-defined and being set to 0.0 in labels with no predicted samples. Use `zero_division` parameter to control this behavior.\n",
      "  _warn_prf(average, modifier, f\"{metric.capitalize()} is\", len(result))\n"
     ]
    }
   ],
   "source": [
    "# Linear Kernel\n",
    "svc_model = SVC(kernel='linear')\n",
    "svc_model.fit(X_train, y_train)\n",
    "\n",
    "# Evaluate the model\n",
    "y_pred_svc = svc_model.predict(X_test)\n",
    "print(\"Results for SVC on test data:\")\n",
    "print(classification_report(y_test, y_pred_svc))"
   ]
  },
  {
   "cell_type": "markdown",
   "id": "1df60466",
   "metadata": {},
   "source": [
    "#### Case 3 -- Age + Family Size"
   ]
  },
  {
   "cell_type": "code",
   "execution_count": 40,
   "id": "cb2a883a",
   "metadata": {},
   "outputs": [
    {
     "name": "stdout",
     "output_type": "stream",
     "text": [
      "Results for SVC on test data:\n",
      "              precision    recall  f1-score   support\n",
      "\n",
      "           0       0.61      1.00      0.76       110\n",
      "           1       0.00      0.00      0.00        69\n",
      "\n",
      "    accuracy                           0.61       179\n",
      "   macro avg       0.31      0.50      0.38       179\n",
      "weighted avg       0.38      0.61      0.47       179\n",
      "\n"
     ]
    },
    {
     "name": "stderr",
     "output_type": "stream",
     "text": [
      "c:\\Projects\\applied-ml-eric\\.emvenv\\Lib\\site-packages\\sklearn\\metrics\\_classification.py:1565: UndefinedMetricWarning: Precision is ill-defined and being set to 0.0 in labels with no predicted samples. Use `zero_division` parameter to control this behavior.\n",
      "  _warn_prf(average, modifier, f\"{metric.capitalize()} is\", len(result))\n",
      "c:\\Projects\\applied-ml-eric\\.emvenv\\Lib\\site-packages\\sklearn\\metrics\\_classification.py:1565: UndefinedMetricWarning: Precision is ill-defined and being set to 0.0 in labels with no predicted samples. Use `zero_division` parameter to control this behavior.\n",
      "  _warn_prf(average, modifier, f\"{metric.capitalize()} is\", len(result))\n",
      "c:\\Projects\\applied-ml-eric\\.emvenv\\Lib\\site-packages\\sklearn\\metrics\\_classification.py:1565: UndefinedMetricWarning: Precision is ill-defined and being set to 0.0 in labels with no predicted samples. Use `zero_division` parameter to control this behavior.\n",
      "  _warn_prf(average, modifier, f\"{metric.capitalize()} is\", len(result))\n"
     ]
    }
   ],
   "source": [
    "# Linear Kernel\n",
    "svc_model = SVC(kernel='linear')\n",
    "svc_model.fit(X_train, y_train)\n",
    "\n",
    "# Evaluate the model\n",
    "y_pred_svc = svc_model.predict(X_test)\n",
    "print(\"Results for SVC on test data:\")\n",
    "print(classification_report(y_test, y_pred_svc))"
   ]
  },
  {
   "cell_type": "markdown",
   "metadata": {},
   "source": [
    "### 5.2 Train and Evaluate Model (NN MLP)"
   ]
  },
  {
   "cell_type": "markdown",
   "id": "dd2cfcec",
   "metadata": {},
   "source": [
    "#### Case 1 Results -- Alone Only"
   ]
  },
  {
   "cell_type": "code",
   "execution_count": 53,
   "metadata": {},
   "outputs": [
    {
     "name": "stdout",
     "output_type": "stream",
     "text": [
      "Results for Neural Network on test data:\n",
      "              precision    recall  f1-score   support\n",
      "\n",
      "           0       0.71      0.65      0.68       110\n",
      "           1       0.51      0.58      0.54        69\n",
      "\n",
      "    accuracy                           0.63       179\n",
      "   macro avg       0.61      0.62      0.61       179\n",
      "weighted avg       0.64      0.63      0.63       179\n",
      "\n"
     ]
    },
    {
     "data": {
      "image/png": "[encoded data removed]",
      "text/plain": [
       "<Figure size 640x480 with 2 Axes>"
      ]
     },
     "metadata": {},
     "output_type": "display_data"
    }
   ],
   "source": [
    "# Train a Neural Network model\n",
    "nn_model = MLPClassifier(hidden_layer_sizes=(50, 25, 10), solver='lbfgs', random_state=123)\n",
    "nn_model.fit(X_train, y_train)\n",
    "\n",
    "# Evaluate Neural Network model\n",
    "y_pred_nn = nn_model.predict(X_test)\n",
    "print(\"Results for Neural Network on test data:\")\n",
    "print(classification_report(y_test, y_pred_nn))\n",
    "\n",
    "# Plot confusion matrix\n",
    "cm_nn = confusion_matrix(y_test, y_pred_nn)\n",
    "sns.heatmap(cm_nn, annot=True, cmap='Blues')\n",
    "plt.xlabel('Predicted')\n",
    "plt.ylabel('Actual')\n",
    "plt.show()"
   ]
  },
  {
   "cell_type": "markdown",
   "id": "e6da52fc",
   "metadata": {},
   "source": [
    "#### Case 2 Results -- Age Only"
   ]
  },
  {
   "cell_type": "code",
   "execution_count": 56,
   "id": "24c13c87",
   "metadata": {},
   "outputs": [
    {
     "name": "stdout",
     "output_type": "stream",
     "text": [
      "Results for Neural Network on test data:\n",
      "              precision    recall  f1-score   support\n",
      "\n",
      "           0       0.63      0.98      0.77       110\n",
      "           1       0.71      0.07      0.13        69\n",
      "\n",
      "    accuracy                           0.63       179\n",
      "   macro avg       0.67      0.53      0.45       179\n",
      "weighted avg       0.66      0.63      0.52       179\n",
      "\n"
     ]
    },
    {
     "data": {
      "image/png": "[encoded data removed]",
      "text/plain": [
       "<Figure size 640x480 with 2 Axes>"
      ]
     },
     "metadata": {},
     "output_type": "display_data"
    }
   ],
   "source": [
    "# Train a Neural Network model\n",
    "nn_model = MLPClassifier(hidden_layer_sizes=(50, 25, 10), solver='lbfgs', random_state=123)\n",
    "nn_model.fit(X_train, y_train)\n",
    "\n",
    "# Evaluate Neural Network model\n",
    "y_pred_nn = nn_model.predict(X_test)\n",
    "print(\"Results for Neural Network on test data:\")\n",
    "print(classification_report(y_test, y_pred_nn))\n",
    "\n",
    "# Plot confusion matrix\n",
    "cm_nn = confusion_matrix(y_test, y_pred_nn)\n",
    "sns.heatmap(cm_nn, annot=True, cmap='Blues')\n",
    "plt.xlabel('Predicted')\n",
    "plt.ylabel('Actual')\n",
    "plt.show()"
   ]
  },
  {
   "cell_type": "markdown",
   "id": "041b145d",
   "metadata": {},
   "source": [
    "#### Case 3 Results -- Age + Family"
   ]
  },
  {
   "cell_type": "code",
   "execution_count": 59,
   "id": "3e9aff6f",
   "metadata": {},
   "outputs": [
    {
     "name": "stderr",
     "output_type": "stream",
     "text": [
      "c:\\Projects\\applied-ml-eric\\.emvenv\\Lib\\site-packages\\sklearn\\neural_network\\_multilayer_perceptron.py:546: ConvergenceWarning: lbfgs failed to converge (status=1):\n",
      "STOP: TOTAL NO. OF ITERATIONS REACHED LIMIT.\n",
      "\n",
      "Increase the number of iterations (max_iter) or scale the data as shown in:\n",
      "    https://scikit-learn.org/stable/modules/preprocessing.html\n",
      "  self.n_iter_ = _check_optimize_result(\"lbfgs\", opt_res, self.max_iter)\n"
     ]
    },
    {
     "name": "stdout",
     "output_type": "stream",
     "text": [
      "Results for Neural Network on test data:\n",
      "              precision    recall  f1-score   support\n",
      "\n",
      "           0       0.71      0.75      0.73       110\n",
      "           1       0.56      0.51      0.53        69\n",
      "\n",
      "    accuracy                           0.65       179\n",
      "   macro avg       0.63      0.63      0.63       179\n",
      "weighted avg       0.65      0.65      0.65       179\n",
      "\n"
     ]
    },
    {
     "data": {
      "image/png": "[encoded data removed]",
      "text/plain": [
       "<Figure size 640x480 with 2 Axes>"
      ]
     },
     "metadata": {},
     "output_type": "display_data"
    }
   ],
   "source": [
    "# Train a Neural Network model\n",
    "nn_model = MLPClassifier(hidden_layer_sizes=(50, 25, 10), solver='lbfgs', random_state=123)\n",
    "nn_model.fit(X_train, y_train)\n",
    "\n",
    "# Evaluate Neural Network model\n",
    "y_pred_nn = nn_model.predict(X_test)\n",
    "print(\"Results for Neural Network on test data:\")\n",
    "print(classification_report(y_test, y_pred_nn))\n",
    "\n",
    "# Plot confusion matrix\n",
    "cm_nn = confusion_matrix(y_test, y_pred_nn)\n",
    "sns.heatmap(cm_nn, annot=True, cmap='Blues')\n",
    "plt.xlabel('Predicted')\n",
    "plt.ylabel('Actual')\n",
    "plt.show()"
   ]
  },
  {
   "cell_type": "markdown",
   "id": "e3674a9d",
   "metadata": {},
   "source": [
    "### Reflection 5:\n",
    "\n",
    "- How did each model perform?\n",
    "<br> **In terms of accuracy, the SVC RBF ranged from 61-63% from case to case, while the NN MLP ranged from 63-65% from case to case. Both were very similar.**\n",
    "\n",
    "- Are there any suprising results?\n",
    "<br> **The SVC RBF performed more accurate with just the alone input while the NN MLP was more accurate with the two inputs of age and family size which makes more sense. The NN also seemed to perform better with it's recall percentages being consistently higher than that of the SVC RBF.**\n",
    "\n",
    "- Why might one model out perform another?\n",
    "<br> **SVC with an RBF kernel is more suited to non-linear decision boundaries, while Neural Networks tend to perform well with complex patterns. This leads me to think that is why the NN could handle the complexities more efficiently.**"
   ]
  },
  {
   "cell_type": "markdown",
   "id": "a02812c1",
   "metadata": {},
   "source": [
    "## Section 6: Final Thoughts and Insights"
   ]
  },
  {
   "cell_type": "markdown",
   "id": "44ef6837",
   "metadata": {},
   "source": [
    "### 6.1 Summarize Findings\n",
    "\n",
    "- **Strong Predictors of Gender:**\n",
    "\n",
    "    Key indicators influencing gender classification include age, family size, and alone.\n",
    "\n",
    "- **Model Performance Comparison:**\n",
    "  - **Decision Tree:** Performed well but showed signs of overfitting, as it achieved high accuracy on the training set but had slightly reduced generalizability on the test data.\n",
    "  - **Neural Network:** Three different configurations were tested, each producing varying levels of accuracy and balance between precision and recall.\n",
    "    - **Case 1:** Achieved a balanced performance with 63% accuracy but had lower precision for Class 1.\n",
    "    - **Case 2:** Showed extreme bias toward Class 0, with nearly perfect recall for Class 0 but failed to identify Class 1 effectively.\n",
    "    - **Case 3:** Provided the best overall balance, with 65% accuracy and improved precision-recall tradeoffs for both classes.\n",
    "  \n",
    "- **Best Model:** Case 3 of the Neural Network demonstrated the most stable performance, avoiding extreme biases while slightly outperforming the Decision Tree in generalization."
   ]
  },
  {
   "cell_type": "markdown",
   "id": "020f732d",
   "metadata": {},
   "source": [
    "### 6.2 Discuss Challenges Faces\n",
    "\n",
    "- **Small Sample Size:** The limited number of data points (179 in the test set) may restrict the model’s ability to generalize well to unseen data.\n",
    "\n",
    "- **Class Imbalance:** The difference in support for Class 0 and Class 1 may have led to biased predictions, particularly in NN Case 2, where the model favored Class 0 almost exclusively."
   ]
  },
  {
   "cell_type": "markdown",
   "id": "2bc136aa",
   "metadata": {},
   "source": [
    "### 6.3 Next Steps\n",
    "\n",
    "- **Feature Engineering:** Test additional predictors, such as age groups, or other demographic factors, to enhance model performance.\n",
    "  \n",
    "- **Hyperparameter Tuning:** Adjust learning rates, activation functions, dropout rates, or hidden layers in the Neural Network to improve results."
   ]
  }
 ],
 "metadata": {
  "kernelspec": {
   "display_name": ".emvenv",
   "language": "python",
   "name": "python3"
  },
  "language_info": {
   "codemirror_mode": {
    "name": "ipython",
    "version": 3
   },
   "file_extension": ".py",
   "mimetype": "text/x-python",
   "name": "python",
   "nbconvert_exporter": "python",
   "pygments_lexer": "ipython3",
   "version": "3.12.9"
  }
 },
 "nbformat": 4,
 "nbformat_minor": 5
}
